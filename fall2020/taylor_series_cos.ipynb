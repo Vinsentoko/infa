{
 "cells": [
  {
   "cell_type": "code",
   "execution_count": null,
   "metadata": {},
   "outputs": [],
   "source": [
    "import math\n",
    "import cmath\n",
    "from IPython.display import set_matplotlib_formats\n",
    "set_matplotlib_formats('pdf', 'svg')\n",
    "\n",
    "\n",
    "import matplotlib.pyplot as plt\n",
    "import numpy as np\n",
    "\n",
    "ITERATIONS = 20\n",
    "def my_cos(x):\n",
    "    \"\"\"\n",
    "    Вычисление синуса при помощи частичного суммирования\n",
    "    ряда Тейлора для окрестности 0\n",
    "    \"\"\"\n",
    "    x_pow = 1\n",
    "    partial_sum = 0\n",
    "    for n in range(0, ITERATIONS):\n",
    "        partial_sum+= ((-1)**n)*(x_pow/math.factorial(2*n)) \n",
    "        x_pow *= x**2\n",
    "    return partial_sum\n",
    "print(math.cos(0.8))\n",
    "print(my_cos(0.8))\n",
    "complex_angle = cmath.acos(5)\n",
    "print('\"Угол\", на котором косинус достигает пяти:', complex_angle)\n",
    "\n",
    "print(\"Достигает ли пяти наш косинус?\", my_cos(complex_angle))\n",
    "print(\"А библиотечный?\", cmath.cos(complex_angle))\n",
    "\n",
    "angles = np.arange(-8.25, 8.25, 0.01)\n",
    "plt.plot(angles, [math.cos(x) for x in angles])\n",
    "plt.plot(angles, [my_cos(x) for x in angles])\n",
    "plt.show()\n"
   ]
  }
 ],
 "metadata": {
  "interpreter": {
   "hash": "b3ba2566441a7c06988d0923437866b63cedc61552a5af99d1f4fb67d367b25f"
  },
  "kernelspec": {
   "display_name": "Python 3.8.8 64-bit ('base': conda)",
   "name": "python3"
  },
  "language_info": {
   "codemirror_mode": {
    "name": "ipython",
    "version": 3
   },
   "file_extension": ".py",
   "mimetype": "text/x-python",
   "name": "python",
   "nbconvert_exporter": "python",
   "pygments_lexer": "ipython3",
   "version": "3.8.8"
  },
  "orig_nbformat": 4
 },
 "nbformat": 4,
 "nbformat_minor": 2
}
